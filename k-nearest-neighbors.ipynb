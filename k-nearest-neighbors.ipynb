{
 "cells": [
  {
   "metadata": {},
   "cell_type": "markdown",
   "source": [
    "# 1. Introduction\n",
    "This notebook performs heart disease classification using the K-Nearest Neighbors (KNN) algorithm.\n",
    "We load and clean data from multiple sources, preprocess features, and evaluate the model performance."
   ],
   "id": "9841675ff2752ff5"
  },
  {
   "metadata": {},
   "cell_type": "markdown",
   "source": "# 2. Load and combine data",
   "id": "ea844f691ce4455d"
  },
  {
   "metadata": {
    "ExecuteTime": {
     "end_time": "2025-05-06T10:58:27.875741Z",
     "start_time": "2025-05-06T10:58:27.840530Z"
    }
   },
   "cell_type": "code",
   "source": [
    "import pandas as pd\n",
    "\n",
    "col_names = [\n",
    "    'age','sex','cp','trestbps','chol','fbs',\n",
    "    'restecg','thalach','exang','oldpeak',\n",
    "    'slope','ca','thal','target'\n",
    "]\n",
    "\n",
    "file_info = [\n",
    "    ('heart+disease/processed.cleveland.data', False),\n",
    "    ('heart+disease/processed.va.data',       False),\n",
    "    ('heart+disease/processed.switzerland.data', False),\n",
    "    ('heart+disease/reprocessed.hungarian.data', True),\n",
    "]\n",
    "\n",
    "frames = []\n",
    "for path, space_sep in file_info:\n",
    "    df = pd.read_csv(\n",
    "        path,\n",
    "        sep=r'\\s+' if space_sep else ',',\n",
    "        header=None,\n",
    "        names=col_names,\n",
    "        na_values='?'\n",
    "    )\n",
    "    frames.append(df)\n",
    "data = pd.concat(frames, ignore_index=True)"
   ],
   "id": "c90b6ba93a220198",
   "outputs": [],
   "execution_count": 7
  },
  {
   "metadata": {},
   "cell_type": "markdown",
   "source": "# 3. Feature Overview\n",
   "id": "206d56e71f2a23b4"
  },
  {
   "metadata": {},
   "cell_type": "markdown",
   "source": [
    "1. age – Age of the person\n",
    "2. sex – Sex (1 = male, 0 = female)\n",
    "3. cp – Chest pain type (0–3, categorical)\n",
    "4. stbps – Resting blood pressure\n",
    "5. l – Serum cholesterol\n",
    "6. fbs – Fasting blood sugar > 120 mg/dl (1 = yes, 0 = no)\n",
    "7. restecg – Resting electrocardiographic results (0–2)\n",
    "8. thalach – Maximum heart rate achieved\n",
    "9. exang – Exercise-induced angina (1 = yes, 0 = no)\n",
    "10. oldpeak – ST depression induced by exercise\n",
    "11. slope – Slope of the peak exercise ST segment (0–2)\n",
    "12. ca – Number of major vessels colored by fluoroscopy (0–3)\n",
    "13. thal – Thalassemia (0–3, encoded)\n",
    "14. target – Target variable (0 = no heart disease, 1 = heart disease)"
   ],
   "id": "9d31202fbebc5916"
  },
  {
   "metadata": {},
   "cell_type": "markdown",
   "source": "# 4. Preprocessing & Modeling Pipeline",
   "id": "3fc0a4293a6fde4"
  },
  {
   "metadata": {
    "ExecuteTime": {
     "end_time": "2025-05-06T10:58:27.925312Z",
     "start_time": "2025-05-06T10:58:27.922808Z"
    }
   },
   "cell_type": "code",
   "source": [
    "from sklearn.model_selection import train_test_split, GridSearchCV\n",
    "from sklearn.pipeline import Pipeline\n",
    "from sklearn.compose import ColumnTransformer\n",
    "from sklearn.impute import SimpleImputer\n",
    "from sklearn.preprocessing import StandardScaler\n",
    "from sklearn.neighbors import KNeighborsClassifier"
   ],
   "id": "172dd60c350c6c0f",
   "outputs": [],
   "execution_count": 8
  },
  {
   "metadata": {},
   "cell_type": "markdown",
   "source": "## 4.1 Test Split",
   "id": "1100ef8482263046"
  },
  {
   "metadata": {
    "ExecuteTime": {
     "end_time": "2025-05-06T10:58:27.979503Z",
     "start_time": "2025-05-06T10:58:27.969450Z"
    }
   },
   "cell_type": "code",
   "source": [
    "X = data.drop('target', axis=1)\n",
    "y = data['target'].astype(int).apply(lambda v: 1 if v>0 else 0)\n",
    "X_train, X_test, y_train, y_test = train_test_split(\n",
    "    X, y, test_size=0.2, random_state=42, stratify=y\n",
    ")\n"
   ],
   "id": "e4ae6ffbcca26824",
   "outputs": [],
   "execution_count": 9
  },
  {
   "metadata": {},
   "cell_type": "markdown",
   "source": "## 4.2 Pipeline definieren",
   "id": "30e19708c96556f3"
  },
  {
   "metadata": {
    "ExecuteTime": {
     "end_time": "2025-05-06T10:58:28.023449Z",
     "start_time": "2025-05-06T10:58:28.019936Z"
    }
   },
   "cell_type": "code",
   "source": [
    "numeric_cols     = ['age','trestbps','chol','thalach','oldpeak']\n",
    "categorical_cols = ['sex','cp','fbs','restecg','exang','slope','ca','thal']\n",
    "\n",
    "num_pipe = Pipeline([\n",
    "    ('imputer', SimpleImputer(strategy='median')),\n",
    "    ('scaler',  StandardScaler())\n",
    "])\n",
    "\n",
    "cat_pipe = Pipeline([\n",
    "    ('imputer', SimpleImputer(strategy='most_frequent'))\n",
    "])\n",
    "\n",
    "preprocessor = ColumnTransformer([\n",
    "    ('num', num_pipe, numeric_cols),\n",
    "    ('cat', cat_pipe, categorical_cols)\n",
    "])\n",
    "\n",
    "pipeline = Pipeline([\n",
    "    ('pre', preprocessor),\n",
    "    ('knn', KNeighborsClassifier())\n",
    "])\n"
   ],
   "id": "9ae8f294c116f61b",
   "outputs": [],
   "execution_count": 10
  },
  {
   "metadata": {},
   "cell_type": "markdown",
   "source": "## 4.3 Hyperparameter-Tuning",
   "id": "1782f03540618cdc"
  },
  {
   "metadata": {
    "ExecuteTime": {
     "end_time": "2025-05-06T10:58:28.476528Z",
     "start_time": "2025-05-06T10:58:28.067426Z"
    }
   },
   "cell_type": "code",
   "source": [
    "param_grid = {'knn__n_neighbors': list(range(1,21))}\n",
    "grid = GridSearchCV(pipeline, param_grid, cv=5, scoring='f1', n_jobs=-1)\n",
    "grid.fit(X_train, y_train)\n",
    "\n",
    "print(\"Best k:\", grid.best_params_['knn__n_neighbors'])"
   ],
   "id": "5a0b87488a18c91d",
   "outputs": [
    {
     "name": "stdout",
     "output_type": "stream",
     "text": [
      "Best k: 20\n"
     ]
    }
   ],
   "execution_count": 11
  },
  {
   "metadata": {},
   "cell_type": "markdown",
   "source": "# 5. Final Evaluation",
   "id": "e095e4dfe216b856"
  },
  {
   "metadata": {
    "ExecuteTime": {
     "end_time": "2025-05-06T10:58:28.748435Z",
     "start_time": "2025-05-06T10:58:28.521551Z"
    }
   },
   "cell_type": "code",
   "source": [
    "from sklearn.metrics import confusion_matrix, classification_report\n",
    "import seaborn as sns\n",
    "import matplotlib.pyplot as plt\n",
    "import pandas as pd\n",
    "\n",
    "\n",
    "# 1) Prediction\n",
    "best_model = grid.best_estimator_\n",
    "y_pred = best_model.predict(X_test)\n",
    "\n",
    "# 2) Normalisation\n",
    "cm = confusion_matrix(y_test, y_pred)\n",
    "cm_norm = cm.astype(float) / cm.sum(axis=1)[:, None]\n",
    "\n",
    "# 3) Plot with Seaborn\n",
    "labels = ['No disease', 'Disease']\n",
    "plt.figure(figsize=(6,5))\n",
    "sns.heatmap(\n",
    "    cm_norm,\n",
    "    annot=cm,                # absolute Zahlen zusätzlich\n",
    "    fmt='d',                 # Anzeige-Format für die Zahlen\n",
    "    annot_kws={'size':14},   # Schriftgröße\n",
    "    cmap='Blues',\n",
    "    xticklabels=labels,\n",
    "    yticklabels=labels,\n",
    "    linewidths=1,\n",
    "    linecolor='gray'\n",
    ")\n",
    "plt.xlabel('Predicted')\n",
    "plt.ylabel('Actual')\n",
    "plt.title('Confusion Matrix (normalized)')\n",
    "plt.show()\n",
    "\n",
    "# 4) Classification Report as DataFrame\n",
    "report = classification_report(y_test, y_pred, output_dict=True)\n",
    "df_report = pd.DataFrame(report).T\n",
    "display(df_report.style.format({\n",
    "    'precision': '{:.2f}',\n",
    "    'recall':    '{:.2f}',\n",
    "    'f1-score':  '{:.2f}',\n",
    "    'support':   '{:.2f}'\n",
    "}))"
   ],
   "id": "7a1e7c797d0b72ff",
   "outputs": [
    {
     "data": {
      "text/plain": [
       "<Figure size 600x500 with 2 Axes>"
      ],
      "image/png": "[encoded data removed]"
     },
     "metadata": {},
     "output_type": "display_data"
    },
    {
     "data": {
      "text/plain": [
       "<pandas.io.formats.style.Styler at 0x11f6763d0>"
      ],
      "text/html": [
       "<style type=\"text/css\">\n",
       "</style>\n",
       "<table id=\"T_b4fd9\">\n",
       "  <thead>\n",
       "    <tr>\n",
       "      <th class=\"blank level0\" >&nbsp;</th>\n",
       "      <th id=\"T_b4fd9_level0_col0\" class=\"col_heading level0 col0\" >precision</th>\n",
       "      <th id=\"T_b4fd9_level0_col1\" class=\"col_heading level0 col1\" >recall</th>\n",
       "      <th id=\"T_b4fd9_level0_col2\" class=\"col_heading level0 col2\" >f1-score</th>\n",
       "      <th id=\"T_b4fd9_level0_col3\" class=\"col_heading level0 col3\" >support</th>\n",
       "    </tr>\n",
       "  </thead>\n",
       "  <tbody>\n",
       "    <tr>\n",
       "      <th id=\"T_b4fd9_level0_row0\" class=\"row_heading level0 row0\" >0</th>\n",
       "      <td id=\"T_b4fd9_row0_col0\" class=\"data row0 col0\" >0.80</td>\n",
       "      <td id=\"T_b4fd9_row0_col1\" class=\"data row0 col1\" >0.73</td>\n",
       "      <td id=\"T_b4fd9_row0_col2\" class=\"data row0 col2\" >0.76</td>\n",
       "      <td id=\"T_b4fd9_row0_col3\" class=\"data row0 col3\" >82.00</td>\n",
       "    </tr>\n",
       "    <tr>\n",
       "      <th id=\"T_b4fd9_level0_row1\" class=\"row_heading level0 row1\" >1</th>\n",
       "      <td id=\"T_b4fd9_row1_col0\" class=\"data row1 col0\" >0.80</td>\n",
       "      <td id=\"T_b4fd9_row1_col1\" class=\"data row1 col1\" >0.85</td>\n",
       "      <td id=\"T_b4fd9_row1_col2\" class=\"data row1 col2\" >0.82</td>\n",
       "      <td id=\"T_b4fd9_row1_col3\" class=\"data row1 col3\" >102.00</td>\n",
       "    </tr>\n",
       "    <tr>\n",
       "      <th id=\"T_b4fd9_level0_row2\" class=\"row_heading level0 row2\" >accuracy</th>\n",
       "      <td id=\"T_b4fd9_row2_col0\" class=\"data row2 col0\" >0.80</td>\n",
       "      <td id=\"T_b4fd9_row2_col1\" class=\"data row2 col1\" >0.80</td>\n",
       "      <td id=\"T_b4fd9_row2_col2\" class=\"data row2 col2\" >0.80</td>\n",
       "      <td id=\"T_b4fd9_row2_col3\" class=\"data row2 col3\" >0.80</td>\n",
       "    </tr>\n",
       "    <tr>\n",
       "      <th id=\"T_b4fd9_level0_row3\" class=\"row_heading level0 row3\" >macro avg</th>\n",
       "      <td id=\"T_b4fd9_row3_col0\" class=\"data row3 col0\" >0.80</td>\n",
       "      <td id=\"T_b4fd9_row3_col1\" class=\"data row3 col1\" >0.79</td>\n",
       "      <td id=\"T_b4fd9_row3_col2\" class=\"data row3 col2\" >0.79</td>\n",
       "      <td id=\"T_b4fd9_row3_col3\" class=\"data row3 col3\" >184.00</td>\n",
       "    </tr>\n",
       "    <tr>\n",
       "      <th id=\"T_b4fd9_level0_row4\" class=\"row_heading level0 row4\" >weighted avg</th>\n",
       "      <td id=\"T_b4fd9_row4_col0\" class=\"data row4 col0\" >0.80</td>\n",
       "      <td id=\"T_b4fd9_row4_col1\" class=\"data row4 col1\" >0.80</td>\n",
       "      <td id=\"T_b4fd9_row4_col2\" class=\"data row4 col2\" >0.80</td>\n",
       "      <td id=\"T_b4fd9_row4_col3\" class=\"data row4 col3\" >184.00</td>\n",
       "    </tr>\n",
       "  </tbody>\n",
       "</table>\n"
      ]
     },
     "metadata": {},
     "output_type": "display_data"
    }
   ],
   "execution_count": 12
  }
 ],
 "metadata": {
  "kernelspec": {
   "display_name": "Python 3",
   "language": "python",
   "name": "python3"
  },
  "language_info": {
   "codemirror_mode": {
    "name": "ipython",
    "version": 2
   },
   "file_extension": ".py",
   "mimetype": "text/x-python",
   "name": "python",
   "nbconvert_exporter": "python",
   "pygments_lexer": "ipython2",
   "version": "2.7.6"
  }
 },
 "nbformat": 4,
 "nbformat_minor": 5
}

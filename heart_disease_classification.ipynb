{
 "cells": [
  {
   "cell_type": "markdown",
   "id": "ffc970ef",
   "metadata": {},
   "source": [
    "# Heart Disease Classification\n",
    "Gemeinsames Notebook für das ML-Projekt."
   ]
  },
  {
   "cell_type": "markdown",
   "id": "eae2cf67",
   "metadata": {},
   "source": [
    "## 1. Daten & Baseline-Modelle (Person A)"
   ]
  },
  {
   "cell_type": "code",
   "execution_count": null,
   "id": "43d96100",
   "metadata": {},
   "outputs": [],
   "source": [
    "# Datenimport & -bereinigung\n"
   ]
  },
  {
   "cell_type": "code",
   "execution_count": null,
   "id": "08c8ed3f",
   "metadata": {},
   "outputs": [],
   "source": [
    "# Explorative Datenanalyse\n"
   ]
  },
  {
   "cell_type": "code",
   "execution_count": null,
   "id": "47566bd3",
   "metadata": {},
   "outputs": [],
   "source": [
    "# Feature Engineering & Preprocessing\n"
   ]
  },
  {
   "cell_type": "code",
   "execution_count": null,
   "id": "c559c8bf",
   "metadata": {},
   "outputs": [],
   "source": [
    "# Baseline Modelle: Logistic Regression, Naive Bayes, k-NN\n"
   ]
  },
  {
   "cell_type": "markdown",
   "id": "892150fd",
   "metadata": {},
   "source": [
    "## 2. Erweiterte Modelle (Person B)"
   ]
  },
  {
   "cell_type": "code",
   "execution_count": null,
   "id": "fb6e3715",
   "metadata": {},
   "outputs": [],
   "source": [
    "# SVM, MLP, Random Forests, Gradient Boosting\n"
   ]
  },
  {
   "cell_type": "code",
   "execution_count": null,
   "id": "64fd54ba",
   "metadata": {},
   "outputs": [],
   "source": [
    "# Optional: Hyperparameter-Tuning (z. B. GridSearchCV)\n"
   ]
  },
  {
   "cell_type": "markdown",
   "id": "ab8bcf83",
   "metadata": {},
   "source": [
    "## 3. Evaluation & Ablation Study (Person C)"
   ]
  },
  {
   "cell_type": "code",
   "execution_count": null,
   "id": "3fc34a8d",
   "metadata": {},
   "outputs": [],
   "source": [
    "# Evaluation aller Modelle: Accuracy, F1, ROC-AUC usw.\n"
   ]
  },
  {
   "cell_type": "code",
   "execution_count": null,
   "id": "fa12276f",
   "metadata": {},
   "outputs": [],
   "source": [
    "# Visualisierungen: Confusion Matrix, ROC Curves\n"
   ]
  },
  {
   "cell_type": "code",
   "execution_count": null,
   "id": "3974426a",
   "metadata": {},
   "outputs": [],
   "source": [
    "# Ablation Study: Einfluss einzelner Features testen\n"
   ]
  },
  {
   "cell_type": "code",
   "execution_count": null,
   "id": "8aac22fd",
   "metadata": {},
   "outputs": [],
   "source": [
    "# Optional: Erweiterte Methoden (LightGBM o.Ä.)\n"
   ]
  }
 ],
 "metadata": {},
 "nbformat": 4,
 "nbformat_minor": 5
}

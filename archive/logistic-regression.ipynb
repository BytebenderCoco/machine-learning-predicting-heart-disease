{
 "cells": [
  {
   "cell_type": "code",
   "execution_count": 1,
   "id": "115f08bc-5ee4-4a9c-b7ce-74db8b6dd6ac",
   "metadata": {},
   "outputs": [],
   "source": [
    "import numpy as np\n",
    "import pandas as pd\n",
    "import matplotlib.pyplot as plt\n",
    "import seaborn as sns\n",
    "from sklearn.model_selection import train_test_split\n",
    "from sklearn.preprocessing import StandardScaler\n",
    "from sklearn.linear_model import LogisticRegression\n",
    "from sklearn.metrics import accuracy_score, confusion_matrix, classification_report"
   ]
  },
  {
   "cell_type": "code",
   "execution_count": 5,
   "id": "0c7ab47e-d4d9-4ef8-9016-eb5e199f0541",
   "metadata": {},
   "outputs": [
    {
     "name": "stdout",
     "output_type": "stream",
     "text": [
      "Total samples: 592\n",
      "Training samples: 473\n",
      "Test samples: 119\n"
     ]
    },
    {
     "data": {
      "image/png": "[encoded data removed]",
      "text/plain": [
       "<Figure size 640x480 with 2 Axes>"
      ]
     },
     "metadata": {},
     "output_type": "display_data"
    },
    {
     "name": "stdout",
     "output_type": "stream",
     "text": [
      "Accuracy: 0.8403361344537815\n",
      "Confusion Matrix:\n",
      " [[62  6]\n",
      " [13 38]]\n",
      "Classification Report:\n",
      "               precision    recall  f1-score   support\n",
      "\n",
      "           0       0.83      0.91      0.87        68\n",
      "           1       0.86      0.75      0.80        51\n",
      "\n",
      "    accuracy                           0.84       119\n",
      "   macro avg       0.85      0.83      0.83       119\n",
      "weighted avg       0.84      0.84      0.84       119\n",
      "\n"
     ]
    }
   ],
   "source": [
    "# Define paths and format types (True if space-separated, False if comma-separated)\n",
    "file_info = [\n",
    "    ('data/processed.cleveland.data', False),\n",
    "    ('data/processed.va.data', False),\n",
    "    ('data/processed.switzerland.data', False),\n",
    "    ('data/reprocessed.hungarian.data', True),  # space-separated\n",
    "]\n",
    "\n",
    "dataframes = []\n",
    "for path, is_space_separated in file_info:\n",
    "    if is_space_separated:\n",
    "        df = pd.read_csv(path, sep=r'\\s+', header=None)\n",
    "    else:\n",
    "        df = pd.read_csv(path, header=None)\n",
    "    dataframes.append(df)\n",
    "\n",
    "# Combine all files into one DataFrame\n",
    "data = pd.concat(dataframes, ignore_index=True)\n",
    "\n",
    "# 3. Handle missing values (replace '?' with NaN, then decide what to do)\n",
    "data.replace('?', np.nan, inplace=True)\n",
    "data = data.dropna()\n",
    "\n",
    "# 4. Separate features (X) and labels (y)\n",
    "X = data.iloc[:, :-1]  # all columns except the last one are features\n",
    "y = data.iloc[:, -1]   # last column is the label\n",
    "\n",
    "# 5. Convert target to binary: 0 (no disease), 1 (disease)\n",
    "y = y.astype(int)\n",
    "y = y.apply(lambda val: 1 if val > 0 else 0)\n",
    "\n",
    "# 5. Split into train/test sets\n",
    "X_train, X_test, y_train, y_test = train_test_split(X, y, test_size=0.2, random_state=42)\n",
    "\n",
    "# 👇 Print dataset sizes\n",
    "print(f\"Total samples: {len(X)}\")\n",
    "print(f\"Training samples: {len(X_train)}\")\n",
    "print(f\"Test samples: {len(X_test)}\")\n",
    "\n",
    "# 6. (Optional but good!) Normalize features\n",
    "scaler = StandardScaler()\n",
    "X_train = scaler.fit_transform(X_train)\n",
    "X_test = scaler.transform(X_test)\n",
    "\n",
    "# 7. Train Logistic Regression\n",
    "model = LogisticRegression()\n",
    "model.fit(X_train, y_train)\n",
    "\n",
    "# 8. Predict and evaluate\n",
    "y_pred = model.predict(X_test)\n",
    "\n",
    "cm = confusion_matrix(y_test, y_pred)\n",
    "sns.heatmap(cm, annot=True, fmt='d', cmap='Blues')\n",
    "plt.title(\"Confusion Matrix\")\n",
    "plt.xlabel(\"Predicted\")\n",
    "plt.ylabel(\"Actual\")\n",
    "plt.show()\n",
    "\n",
    "print(\"Accuracy:\", accuracy_score(y_test, y_pred))\n",
    "print(\"Confusion Matrix:\\n\", confusion_matrix(y_test, y_pred))\n",
    "print(\"Classification Report:\\n\", classification_report(y_test, y_pred))"
   ]
  },
  {
   "cell_type": "code",
   "execution_count": null,
   "id": "c70a69a3-8601-4bec-8a5d-b245d34bb7ff",
   "metadata": {},
   "outputs": [],
   "source": []
  }
 ],
 "metadata": {
  "kernelspec": {
   "display_name": "Python [conda env:base] *",
   "language": "python",
   "name": "conda-base-py"
  },
  "language_info": {
   "codemirror_mode": {
    "name": "ipython",
    "version": 3
   },
   "file_extension": ".py",
   "mimetype": "text/x-python",
   "name": "python",
   "nbconvert_exporter": "python",
   "pygments_lexer": "ipython3",
   "version": "3.12.7"
  }
 },
 "nbformat": 4,
 "nbformat_minor": 5
}
